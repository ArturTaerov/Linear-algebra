{
  "nbformat": 4,
  "nbformat_minor": 0,
  "metadata": {
    "colab": {
      "provenance": []
    },
    "kernelspec": {
      "name": "python3",
      "display_name": "Python 3"
    },
    "language_info": {
      "name": "python"
    }
  },
  "cells": [
    {
      "cell_type": "markdown",
      "source": [
        "Найти с помощью NumPy SVD для матрицы:\n"
      ],
      "metadata": {
        "id": "sRWOOqSMNjbb"
      }
    },
    {
      "cell_type": "code",
      "source": [
        "import numpy as np\n",
        "import pandas as pd"
      ],
      "metadata": {
        "id": "O5q4oqlRNiw7"
      },
      "execution_count": 1,
      "outputs": []
    },
    {
      "cell_type": "code",
      "source": [
        "A = np.array([[1, 2, 0], [0, 0, 5], [3, -4, 2], [1, 6, 5], [0, 1, 0]])\n",
        "A"
      ],
      "metadata": {
        "colab": {
          "base_uri": "https://localhost:8080/"
        },
        "id": "uXUr9xKMJygJ",
        "outputId": "2b4d3006-5acf-4594-917d-f4ed1dee8588"
      },
      "execution_count": 2,
      "outputs": [
        {
          "output_type": "execute_result",
          "data": {
            "text/plain": [
              "array([[ 1,  2,  0],\n",
              "       [ 0,  0,  5],\n",
              "       [ 3, -4,  2],\n",
              "       [ 1,  6,  5],\n",
              "       [ 0,  1,  0]])"
            ]
          },
          "metadata": {},
          "execution_count": 2
        }
      ]
    },
    {
      "cell_type": "code",
      "source": [
        "U, s, W = np.linalg.svd(A)\n",
        "V = W.T\n",
        "\n",
        "print(U)\n",
        "print(s)\n",
        "print(W)"
      ],
      "metadata": {
        "colab": {
          "base_uri": "https://localhost:8080/"
        },
        "id": "bBms5Ae1M1S4",
        "outputId": "17f54afc-b577-49d0-f934-212c570dc5da"
      },
      "execution_count": 3,
      "outputs": [
        {
          "output_type": "stream",
          "name": "stdout",
          "text": [
            "[[ 0.17056501  0.15680918 -0.53077508 -0.79905375 -0.16158397]\n",
            " [ 0.39287016 -0.52933945  0.6134793  -0.43375771  0.03082495]\n",
            " [-0.14366152 -0.82449256 -0.52379105  0.14049848  0.07400343]\n",
            " [ 0.88843702  0.06074346 -0.24655277  0.37755832 -0.06042632]\n",
            " [ 0.08125046  0.10831843 -0.08231425 -0.10524851  0.98173958]]\n",
            "[8.82486885 6.14060608 2.53271528]\n",
            "[[ 0.07116451  0.71702467  0.69340553]\n",
            " [-0.36737824  0.66514082 -0.65009301]\n",
            " [-0.92734505 -0.20847855  0.31075368]]\n"
          ]
        }
      ]
    },
    {
      "cell_type": "markdown",
      "source": [
        "Для матрицы из предыдущего задания найти:\n",
        "\n",
        "а) евклидову норму;\n",
        "\n",
        "б) норму Фробениуса."
      ],
      "metadata": {
        "id": "WjN0QfswOfCj"
      }
    },
    {
      "cell_type": "code",
      "source": [
        "norm_evkl = np.linalg.norm(A)\n",
        "print(f\"Евклидова норма равна {norm_evkl}\")"
      ],
      "metadata": {
        "colab": {
          "base_uri": "https://localhost:8080/"
        },
        "id": "jefejCFnBIPE",
        "outputId": "1c6ee82c-708c-430e-e44a-cdb5a641c15f"
      },
      "execution_count": 13,
      "outputs": [
        {
          "output_type": "stream",
          "name": "stdout",
          "text": [
            "Евклидова норма равна 11.045361017187261\n"
          ]
        }
      ]
    },
    {
      "cell_type": "code",
      "source": [
        "norm_frob = max(s)\n",
        "print(f\"Норма Фробениуса равна {norm_frob}\")"
      ],
      "metadata": {
        "colab": {
          "base_uri": "https://localhost:8080/"
        },
        "id": "a0HmKodTBIro",
        "outputId": "1dd0adc7-15a3-462b-fe55-ce7f1fb33710"
      },
      "execution_count": 14,
      "outputs": [
        {
          "output_type": "stream",
          "name": "stdout",
          "text": [
            "Норма Фробениуса равна 8.824868854820444\n"
          ]
        }
      ]
    }
  ]
}